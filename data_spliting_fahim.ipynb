{
 "cells": [
  {
   "cell_type": "code",
   "execution_count": 1,
   "id": "3acc3df7-824d-4deb-9e44-e668ded21dcd",
   "metadata": {},
   "outputs": [],
   "source": [
    "import splitfolders"
   ]
  },
  {
   "cell_type": "code",
   "execution_count": 2,
   "id": "73c55359-5b0d-4f39-a88f-62094669abcb",
   "metadata": {},
   "outputs": [],
   "source": [
    "input_folder = r\"C:\\Users\\HP\\OneDrive\\Desktop\\bangladeshi-crops-disease-dataset\\CropDisease\\Crop___DIsease\""
   ]
  },
  {
   "cell_type": "code",
   "execution_count": 3,
   "id": "15561f8f-f294-4625-82c4-be2e426ca08c",
   "metadata": {},
   "outputs": [],
   "source": [
    "splitfolders.ratio(input_folder, output=r\"C:\\Users\\HP\\OneDrive\\Desktop\\bangladeshi-crops-disease-dataset\\CropDisease\\Split_Crop_Disease\",\n",
    "                   seed=42, ratio=(.7,.2,.1),\n",
    "                   group_prefix=None)"
   ]
  },
  {
   "cell_type": "code",
   "execution_count": null,
   "id": "b78f558f-dd29-4973-bd1c-dc991dbcd3bf",
   "metadata": {},
   "outputs": [],
   "source": []
  }
 ],
 "metadata": {
  "kernelspec": {
   "display_name": "Python 3 (ipykernel)",
   "language": "python",
   "name": "python3"
  },
  "language_info": {
   "codemirror_mode": {
    "name": "ipython",
    "version": 3
   },
   "file_extension": ".py",
   "mimetype": "text/x-python",
   "name": "python",
   "nbconvert_exporter": "python",
   "pygments_lexer": "ipython3",
   "version": "3.10.13"
  }
 },
 "nbformat": 4,
 "nbformat_minor": 5
}
